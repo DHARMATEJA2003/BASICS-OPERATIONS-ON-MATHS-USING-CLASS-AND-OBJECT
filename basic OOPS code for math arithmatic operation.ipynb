{
 "cells": [
  {
   "cell_type": "markdown",
   "id": "ecad6bbd",
   "metadata": {},
   "source": [
    "# BASICS MATHS OPERATIONS USING CLASS AND OBJECTS"
   ]
  },
  {
   "cell_type": "markdown",
   "id": "e34e076b",
   "metadata": {},
   "source": [
    "CREATING CLASS"
   ]
  },
  {
   "cell_type": "code",
   "execution_count": 40,
   "id": "f8b47374",
   "metadata": {},
   "outputs": [],
   "source": [
    "class maths:\n",
    "    def add(self):  #Addtion function  inside the class\n",
    "        res=0\n",
    "        n=int(input(\"Enter number of elements need to add: \"))\n",
    "        for i in range(n):\n",
    "            res+=int(input(\"Enter the element: \"))\n",
    "        return \"The summation of given elements is: {}\".format(res)\n",
    "    def multiplication(self):   #Multiplication function inside the class\n",
    "        res=1\n",
    "        n=int(input(\"Enter the number of elements need to multiply: \"))\n",
    "        for i in range(n):\n",
    "            res*=int(input(\"Enter multipliying value: \"))\n",
    "        return \"the multiplication of given elements is: {}\".format(res)\n",
    "    def calsi(self,a):  #Calsi function inside the class\n",
    "        return \"the calculation for the above numericals is: {}\".format(a)"
   ]
  },
  {
   "cell_type": "markdown",
   "id": "7818f10e",
   "metadata": {},
   "source": [
    "CREATING OBJECT"
   ]
  },
  {
   "cell_type": "code",
   "execution_count": 41,
   "id": "e4221f23",
   "metadata": {},
   "outputs": [],
   "source": [
    "math=maths()        #math is the object"
   ]
  },
  {
   "cell_type": "code",
   "execution_count": 42,
   "id": "486f87c8",
   "metadata": {},
   "outputs": [
    {
     "name": "stdout",
     "output_type": "stream",
     "text": [
      "Enter number of elements need to add: 5\n",
      "Enter the element: 2\n",
      "Enter the element: 2\n",
      "Enter the element: 2\n",
      "Enter the element: 2\n",
      "Enter the element: 2\n",
      "The summation of given elements is: 10\n"
     ]
    }
   ],
   "source": [
    "print(math.add())  #using the class and its object"
   ]
  },
  {
   "cell_type": "code",
   "execution_count": 43,
   "id": "bd4159fb",
   "metadata": {},
   "outputs": [
    {
     "name": "stdout",
     "output_type": "stream",
     "text": [
      "Enter the number of elements need to multiply: 4\n",
      "Enter multipliying value: 2\n",
      "Enter multipliying value: 3\n",
      "Enter multipliying value: 4\n",
      "Enter multipliying value: 2\n",
      "the multiplication of given elements is: 48\n"
     ]
    }
   ],
   "source": [
    "print(math.multiplication())"
   ]
  },
  {
   "cell_type": "code",
   "execution_count": 44,
   "id": "4231aafd",
   "metadata": {},
   "outputs": [
    {
     "name": "stdout",
     "output_type": "stream",
     "text": [
      "the calculation for the above numericals is: 10.25\n"
     ]
    }
   ],
   "source": [
    "print(math.calsi(2+4+5/4+3))"
   ]
  },
  {
   "cell_type": "code",
   "execution_count": null,
   "id": "acbdb11a",
   "metadata": {},
   "outputs": [],
   "source": []
  }
 ],
 "metadata": {
  "kernelspec": {
   "display_name": "Python 3 (ipykernel)",
   "language": "python",
   "name": "python3"
  },
  "language_info": {
   "codemirror_mode": {
    "name": "ipython",
    "version": 3
   },
   "file_extension": ".py",
   "mimetype": "text/x-python",
   "name": "python",
   "nbconvert_exporter": "python",
   "pygments_lexer": "ipython3",
   "version": "3.9.13"
  }
 },
 "nbformat": 4,
 "nbformat_minor": 5
}
